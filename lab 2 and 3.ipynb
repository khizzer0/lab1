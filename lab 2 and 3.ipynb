{
  "nbformat": 4,
  "nbformat_minor": 0,
  "metadata": {
    "colab": {
      "provenance": [],
      "authorship_tag": "ABX9TyPthKLUxiwvwNNI6bMgNtJd",
      "include_colab_link": true
    },
    "kernelspec": {
      "name": "python3",
      "display_name": "Python 3"
    },
    "language_info": {
      "name": "python"
    }
  },
  "cells": [
    {
      "cell_type": "markdown",
      "metadata": {
        "id": "view-in-github",
        "colab_type": "text"
      },
      "source": [
        "<a href=\"https://colab.research.google.com/github/khizzer0/lab1/blob/main/lab%202%20and%203.ipynb\" target=\"_parent\"><img src=\"https://colab.research.google.com/assets/colab-badge.svg\" alt=\"Open In Colab\"/></a>"
      ]
    },
    {
      "cell_type": "markdown",
      "source": [
        "# **LAB 2 AND 3**\n",
        "\n",
        "\n",
        "\n"
      ],
      "metadata": {
        "id": "OOr1N227-JU8"
      }
    },
    {
      "cell_type": "markdown",
      "source": [
        "\n",
        "\n",
        "> **TASK1:**\n",
        "\n",
        "\n",
        "1.\tPrint at least 5 types of data type\n"
      ],
      "metadata": {
        "id": "Aw7mZ2WDAfNF"
      }
    },
    {
      "cell_type": "markdown",
      "source": [
        "\n",
        "> **Numeric Data Types:**\n",
        "\n",
        "\n",
        "These represent numeric values.\n",
        " The main numeric types are:\n",
        "\n",
        "\n",
        "> **int:** Holds signed integers of non-limited length.\n",
        "\n",
        "> **float:** Holds floating-point decimal numbers (accurate up to 15 decimal places).\n",
        "\n",
        "\n",
        "> **complex:** Holds complex numbers"
      ],
      "metadata": {
        "id": "8KwBl6j9_EPJ"
      }
    },
    {
      "cell_type": "code",
      "source": [
        "# NUMERIC DATA TYPE\n",
        "num1 = 10\n",
        "num2 = 2.0\n",
        "num3 = 10 + 7j\n",
        "print(num1, 'is  type  of', type(num1))\n",
        "print(num2, 'is  type  of', type(num2))\n",
        "print(num3, 'is  type  of', type(num3))\n"
      ],
      "metadata": {
        "colab": {
          "base_uri": "https://localhost:8080/"
        },
        "id": "qXynZYh86hrW",
        "outputId": "1a0d04fe-96be-4c62-e95d-9f2028cfce24"
      },
      "execution_count": 5,
      "outputs": [
        {
          "output_type": "stream",
          "name": "stdout",
          "text": [
            "10 is  type  of <class 'int'>\n",
            "2.0 is  type  of <class 'float'>\n",
            "(10+7j) is  type  of <class 'complex'>\n"
          ]
        }
      ]
    },
    {
      "cell_type": "markdown",
      "source": [
        "**INT DATA TYPE**"
      ],
      "metadata": {
        "id": "pmQC4wuvA4Nv"
      }
    },
    {
      "cell_type": "markdown",
      "source": [
        "**1.Positive Integer:**\n",
        "An int variable can hold positive whole numbers."
      ],
      "metadata": {
        "id": "Ob1lgLs-DNqz"
      }
    },
    {
      "cell_type": "code",
      "source": [
        "age = 30\n"
      ],
      "metadata": {
        "id": "zOtl0l2S8xRl"
      },
      "execution_count": 10,
      "outputs": []
    },
    {
      "cell_type": "markdown",
      "source": [
        "**2.Negative Integer:**\n",
        "It can also hold negative integers."
      ],
      "metadata": {
        "id": "JkIOtwdvDVqn"
      }
    },
    {
      "cell_type": "code",
      "source": [
        "debt = -500\n"
      ],
      "metadata": {
        "id": "z38rl40z9h_f"
      },
      "execution_count": 12,
      "outputs": []
    },
    {
      "cell_type": "markdown",
      "source": [
        "# ** 3. Arthemetic Operations with Integers:**\n",
        "You can perform arithmetic operations:"
      ],
      "metadata": {
        "id": "kJ-7HHfSDsX7"
      }
    },
    {
      "cell_type": "code",
      "source": [
        "num1 = 10\n",
        "num2 = 3\n",
        "sum_result = num1 + num2\n",
        "difference_result = num1 - num2\n",
        "product_result = num1 * num2\n",
        "quotient_result = num1 // num2  # Integer division\n",
        "remainder_result = num1 % num2\n"
      ],
      "metadata": {
        "id": "KjL5_oLLDjMY"
      },
      "execution_count": 15,
      "outputs": []
    },
    {
      "cell_type": "markdown",
      "source": [
        "**4.Type Checking:**\n",
        "You can use the type() function to check the data type:"
      ],
      "metadata": {
        "id": "Zu5jL5lyEYWc"
      }
    },
    {
      "cell_type": "code",
      "source": [
        "x = 5\n",
        "print(type(x))  # Output: <class 'int'>\n"
      ],
      "metadata": {
        "colab": {
          "base_uri": "https://localhost:8080/"
        },
        "id": "xh9rJCz4ETWl",
        "outputId": "41d69f4b-77d5-4f08-c8d8-29ac1987e83c"
      },
      "execution_count": 17,
      "outputs": [
        {
          "output_type": "stream",
          "name": "stdout",
          "text": [
            "<class 'int'>\n"
          ]
        }
      ]
    },
    {
      "cell_type": "markdown",
      "source": [
        "**5.Indexing in Lists:**\n",
        "Integers are commonly used as indices in lists"
      ],
      "metadata": {
        "id": "AxQnq4VPExvF"
      }
    },
    {
      "cell_type": "code",
      "source": [
        "languages = [\"Python\", \"Java\", \"C++\"]\n",
        "print(languages[0])\n",
        "print(languages [2])"
      ],
      "metadata": {
        "colab": {
          "base_uri": "https://localhost:8080/"
        },
        "id": "jQwXGIHlEpHG",
        "outputId": "5a63a305-2cbc-41ee-d849-c47dca607b52"
      },
      "execution_count": 19,
      "outputs": [
        {
          "output_type": "stream",
          "name": "stdout",
          "text": [
            "Python\n",
            "C++\n"
          ]
        }
      ]
    },
    {
      "cell_type": "markdown",
      "source": [
        "**FLOAT DATA TYPE**"
      ],
      "metadata": {
        "id": "BfP2NG7eFN49"
      }
    },
    {
      "cell_type": "markdown",
      "source": [
        "# **1.Positive Floating-Point Number:**\n",
        "A float variable represents decimal or fractional values."
      ],
      "metadata": {
        "id": "tjavfH6BGURW"
      }
    },
    {
      "cell_type": "code",
      "source": [
        "pi = 3.14159\n"
      ],
      "metadata": {
        "id": "Sbledq-cFKkD"
      },
      "execution_count": 20,
      "outputs": []
    },
    {
      "cell_type": "markdown",
      "source": [
        "**2.Negative Floating-Point Number:**\n",
        "It can also hold negative floating-point values."
      ],
      "metadata": {
        "id": "HKvWLYqtGbly"
      }
    },
    {
      "cell_type": "code",
      "source": [
        "temperature = -2.5\n"
      ],
      "metadata": {
        "id": "1kPCqO80Ga8Z"
      },
      "execution_count": 21,
      "outputs": []
    },
    {
      "cell_type": "markdown",
      "source": [
        "**3.Scientific Notation:**\n",
        "You can use scientific notation by appending e or E followed by a positive or negative integer."
      ],
      "metadata": {
        "id": "7ZIngs9nGnHn"
      }
    },
    {
      "cell_type": "code",
      "source": [
        "large_number = 32.3e18\n"
      ],
      "metadata": {
        "id": "LrmQ9TsUGmgG"
      },
      "execution_count": 22,
      "outputs": []
    },
    {
      "cell_type": "markdown",
      "source": [
        "**4.Operations with Floats:**\n",
        "Perform arithmetic operations"
      ],
      "metadata": {
        "id": "ZVS7ptYtG1QJ"
      }
    },
    {
      "cell_type": "code",
      "source": [
        "num1 = 10.5\n",
        "num2 = 3.0\n",
        "sum_result = num1 + num2\n",
        "difference_result = num1 - num2\n",
        "product_result = num1 * num2\n",
        "quotient_result = num1 / num2\n"
      ],
      "metadata": {
        "id": "FvPsoOcxG0fX"
      },
      "execution_count": 23,
      "outputs": []
    },
    {
      "cell_type": "markdown",
      "source": [
        "**5.Type Checking:**\n",
        "Use the type() function to check the data type:"
      ],
      "metadata": {
        "id": "vDOPLQVvHeQi"
      }
    },
    {
      "cell_type": "code",
      "source": [
        "x = 5.5\n",
        "print(type(x))\n"
      ],
      "metadata": {
        "colab": {
          "base_uri": "https://localhost:8080/"
        },
        "id": "xkzVgyHVH6Qz",
        "outputId": "27cf601e-a3db-477a-e60d-78826c44930c"
      },
      "execution_count": 27,
      "outputs": [
        {
          "output_type": "stream",
          "name": "stdout",
          "text": [
            "<class 'float'>\n"
          ]
        }
      ]
    },
    {
      "cell_type": "markdown",
      "source": [
        "**COMPLEX DATA TYPES**"
      ],
      "metadata": {
        "id": "DvSyMoQ9Jdmd"
      }
    },
    {
      "cell_type": "markdown",
      "source": [
        "**1.Lists:** Lists are ordered collections of items. They can contain any type of data, including other lists."
      ],
      "metadata": {
        "id": "FIMeyE0QJkUm"
      }
    },
    {
      "cell_type": "code",
      "source": [
        "my_list = [1, 2, 3, 'a', 'b', 'c']"
      ],
      "metadata": {
        "id": "MIq5Mf2bIIs_"
      },
      "execution_count": 29,
      "outputs": []
    },
    {
      "cell_type": "markdown",
      "source": [
        "**2.Tuples:** Tuples are immutable ordered collections of items. They are similar to lists, but cannot be modified once created."
      ],
      "metadata": {
        "id": "J4HuQvDLJysk"
      }
    },
    {
      "cell_type": "code",
      "source": [
        "my_tuple = (1, 2, 3, 'a', 'b', 'c')"
      ],
      "metadata": {
        "id": "M5VyPJHdJx25"
      },
      "execution_count": 30,
      "outputs": []
    },
    {
      "cell_type": "markdown",
      "source": [
        "**3.Dictionaries:** Dictionaries are unordered collections of key-value pairs. They are accessed and modified using keys."
      ],
      "metadata": {
        "id": "TEt259KCJ_bQ"
      }
    },
    {
      "cell_type": "code",
      "source": [
        "my_dict = {'name': 'KHIZZER JADOON', 'age': 21, 'city': 'ABBOTTABAD'}"
      ],
      "metadata": {
        "id": "UZqYkTsEJ-1B"
      },
      "execution_count": 31,
      "outputs": []
    },
    {
      "cell_type": "markdown",
      "source": [
        "**4.Sets:** Sets are unordered collections of unique elements. They are useful for removing duplicates and performing set operations."
      ],
      "metadata": {
        "id": "0Ux-C3jdKSVf"
      }
    },
    {
      "cell_type": "code",
      "source": [
        "my_set = {1, 2, 3, 'a', 'b', 'c'}"
      ],
      "metadata": {
        "id": "G5tqNjOyKPyW"
      },
      "execution_count": 32,
      "outputs": []
    },
    {
      "cell_type": "markdown",
      "source": [
        "**5.Frozen Sets:**\n",
        "Frozen sets are immutable sets. They cannot be modified once created."
      ],
      "metadata": {
        "id": "u2qqWvTwKlxI"
      }
    },
    {
      "cell_type": "code",
      "source": [
        "my_frozen_set = frozenset({1, 2, 3, 'a', 'b', 'c'})"
      ],
      "metadata": {
        "id": "nye_f9YAKiea"
      },
      "execution_count": null,
      "outputs": []
    },
    {
      "cell_type": "markdown",
      "source": [
        "# **TASK 2  Type Conversion Examples:**"
      ],
      "metadata": {
        "id": "7BRPfs2YLJ0W"
      }
    },
    {
      "cell_type": "code",
      "source": [
        "# Convert integer to float\n",
        "num_int = 10\n",
        "num_float = float(num_int)\n",
        "\n",
        "# Convert string to integer\n",
        "num_str = '10'\n",
        "num_int = int(num_str)\n",
        "\n",
        "# Convert float to string\n",
        "num_float = 10.5\n",
        "num_str = str(num_float)"
      ],
      "metadata": {
        "id": "xaWbcB6EKjDp"
      },
      "execution_count": 34,
      "outputs": []
    },
    {
      "cell_type": "markdown",
      "source": [
        "# **TASK 3 Assign Multiple Strings to Single Variable:**"
      ],
      "metadata": {
        "id": "ogYLA9p_LYMo"
      }
    },
    {
      "cell_type": "code",
      "source": [
        "name = 'KHIZZER'\n",
        "reg_no = '1234567890'\n",
        "program = 'Artificial Intellegence'\n",
        "semester = 'Fall 2022'\n",
        "\n",
        "# Assign all values to a single variable\n",
        "details = f'Name: {name}, Registration Number: {reg_no}, Program: {program}, Semester: {semester}'"
      ],
      "metadata": {
        "id": "b7L-RhEJLXV6"
      },
      "execution_count": 36,
      "outputs": []
    },
    {
      "cell_type": "markdown",
      "source": [
        "# **4.Access Last 3 Characters of Country Name:**"
      ],
      "metadata": {
        "id": "kFyGSlBSL01G"
      }
    },
    {
      "cell_type": "code",
      "source": [
        "country = 'Bangladesh'\n",
        "last_3_chars = country[-3:]\n",
        "print(last_3_chars)  # Output: esh"
      ],
      "metadata": {
        "colab": {
          "base_uri": "https://localhost:8080/"
        },
        "id": "Mj9ExAzkL0RZ",
        "outputId": "c00263d2-5106-471c-a2b6-8a20396271d2"
      },
      "execution_count": 38,
      "outputs": [
        {
          "output_type": "stream",
          "name": "stdout",
          "text": [
            "esh\n"
          ]
        }
      ]
    },
    {
      "cell_type": "markdown",
      "source": [
        "# **5.Check if len() Counts Spaces:**"
      ],
      "metadata": {
        "id": "eiV-hu6BMA5N"
      }
    },
    {
      "cell_type": "code",
      "source": [
        "sentence = 'Hello, World!'\n",
        "length = len(sentence)\n",
        "print(length)  # Output: 13\n",
        "\n",
        "# Remove spaces and calculate length\n",
        "sentence_no_spaces = sentence.replace(' ', '')\n",
        "length_no_spaces = len(sentence_no_spaces)\n",
        "print(length_no_spaces)  # Output: 11"
      ],
      "metadata": {
        "colab": {
          "base_uri": "https://localhost:8080/"
        },
        "id": "Xj45MyxAL_mh",
        "outputId": "f42055cd-bc3f-4d6e-e96b-280a75d3e8e2"
      },
      "execution_count": 40,
      "outputs": [
        {
          "output_type": "stream",
          "name": "stdout",
          "text": [
            "13\n",
            "12\n"
          ]
        }
      ]
    },
    {
      "cell_type": "markdown",
      "source": [
        "# **6.Access 2nd and 3rd Characters of Name Using Negative Indexes:**"
      ],
      "metadata": {
        "id": "vTKoWFgEMQ9T"
      }
    },
    {
      "cell_type": "code",
      "source": [
        "name = 'John Doe'\n",
        "\n",
        "# Access 2nd character (using negative index)\n",
        "second_char = name[-5]\n",
        "print(second_char)  # Output: o\n",
        "\n",
        "# Access 3rd character (using negative index)\n",
        "third_char = name[-4]\n",
        "print(third_char)  # Output: h"
      ],
      "metadata": {
        "colab": {
          "base_uri": "https://localhost:8080/"
        },
        "id": "l7NjuTo4MQaM",
        "outputId": "04f065d2-6583-4300-9fea-d77b5ccc9357"
      },
      "execution_count": 42,
      "outputs": [
        {
          "output_type": "stream",
          "name": "stdout",
          "text": [
            "n\n",
            " \n"
          ]
        }
      ]
    },
    {
      "cell_type": "markdown",
      "source": [
        "# **7.With Indexes:**"
      ],
      "metadata": {
        "id": "MG76MzGwMdqS"
      }
    },
    {
      "cell_type": "code",
      "source": [
        "name = 'John Doe'\n",
        "age = 30\n",
        "\n",
        "# Pass index numbers to format() function\n",
        "formatted_str = '{} {} is: {}'.format(2, name, age)\n",
        "print(formatted_str)  # Output: John Doe is: 30"
      ],
      "metadata": {
        "colab": {
          "base_uri": "https://localhost:8080/"
        },
        "id": "ev8QqWCSMYcW",
        "outputId": "ed3ce2f0-c96e-4100-f70c-33eab90e6ca3"
      },
      "execution_count": 44,
      "outputs": [
        {
          "output_type": "stream",
          "name": "stdout",
          "text": [
            "2 John Doe is: 30\n"
          ]
        }
      ]
    },
    {
      "cell_type": "markdown",
      "source": [
        "# **Without Indexes:**"
      ],
      "metadata": {
        "id": "uSiDDZaKMmD2"
      }
    },
    {
      "cell_type": "code",
      "source": [
        "name = 'John Doe'\n",
        "age = 30\n",
        "\n",
        "# Without index numbers\n",
        "formatted_str = '{} {} is: {}'.format(name, age, age)\n",
        "print(formatted_str)  # Output: John Doe is: 30"
      ],
      "metadata": {
        "colab": {
          "base_uri": "https://localhost:8080/"
        },
        "id": "68p6D5dxMlco",
        "outputId": "aca6df3b-818f-47ef-e996-034e9493582d"
      },
      "execution_count": 46,
      "outputs": [
        {
          "output_type": "stream",
          "name": "stdout",
          "text": [
            "John Doe 30 is: 30\n"
          ]
        }
      ]
    },
    {
      "cell_type": "markdown",
      "source": [
        "# **8.Take Input and Display:**"
      ],
      "metadata": {
        "id": "wzFgJCXaMu66"
      }
    },
    {
      "cell_type": "code",
      "source": [
        "# Take input from user\n",
        "name = input('Enter your name: ')\n",
        "age = int(input('Enter your age: '))\n",
        "\n",
        "# Display input using format() function\n",
        "print('{} age is: {}'.format(name, age))  # Output: John age is: 30"
      ],
      "metadata": {
        "colab": {
          "base_uri": "https://localhost:8080/"
        },
        "id": "GiHpjh9FMr-P",
        "outputId": "2d78ae15-be28-43bd-bdf1-23adbc514113"
      },
      "execution_count": 47,
      "outputs": [
        {
          "output_type": "stream",
          "name": "stdout",
          "text": [
            "Enter your name: khizzer\n",
            "Enter your age: 21\n",
            "khizzer age is: 21\n"
          ]
        }
      ]
    }
  ]
}