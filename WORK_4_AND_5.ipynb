{
  "nbformat": 4,
  "nbformat_minor": 0,
  "metadata": {
    "colab": {
      "provenance": [],
      "authorship_tag": "ABX9TyPNuh8iv6zNCGz2MgPJxFCH",
      "include_colab_link": true
    },
    "kernelspec": {
      "name": "python3",
      "display_name": "Python 3"
    },
    "language_info": {
      "name": "python"
    }
  },
  "cells": [
    {
      "cell_type": "markdown",
      "metadata": {
        "id": "view-in-github",
        "colab_type": "text"
      },
      "source": [
        "<a href=\"https://colab.research.google.com/github/khizzer0/lab1/blob/main/WORK_4_AND_5.ipynb\" target=\"_parent\"><img src=\"https://colab.research.google.com/assets/colab-badge.svg\" alt=\"Open In Colab\"/></a>"
      ]
    },
    {
      "cell_type": "code",
      "execution_count": 1,
      "metadata": {
        "colab": {
          "base_uri": "https://localhost:8080/"
        },
        "id": "SLygWWJg1UCy",
        "outputId": "ff137112-66a1-4294-ab73-3698950f9acd"
      },
      "outputs": [
        {
          "output_type": "stream",
          "name": "stdout",
          "text": [
            "First fruit: apple\n",
            "Last fruit: date\n"
          ]
        }
      ],
      "source": [
        "fruits = [\"apple\", \"banana\", \"cherry\", \"date\"]\n",
        "print(\"First fruit:\", fruits[0])\n",
        "print(\"Last fruit:\", fruits[-1])\n"
      ]
    },
    {
      "cell_type": "code",
      "source": [
        "colors = [\"red\", \"green\", \"yellow\", \"orange\"]\n",
        "colors[1] = \"blue\"\n",
        "print(\"Updated colors:\", colors)\n"
      ],
      "metadata": {
        "colab": {
          "base_uri": "https://localhost:8080/"
        },
        "id": "txvF7lsZ16rG",
        "outputId": "a9df2b9d-73c8-40f0-8524-ade8756b01f5"
      },
      "execution_count": 2,
      "outputs": [
        {
          "output_type": "stream",
          "name": "stdout",
          "text": [
            "Updated colors: ['red', 'blue', 'yellow', 'orange']\n"
          ]
        }
      ]
    },
    {
      "cell_type": "code",
      "source": [
        "numbers = [1, 2, 3, 4, 5]\n",
        "numbers.append(10)\n",
        "print(\"Updated numbers:\", numbers)\n"
      ],
      "metadata": {
        "colab": {
          "base_uri": "https://localhost:8080/"
        },
        "id": "h6VAtK_P2TEu",
        "outputId": "b365d3d5-0f7f-4fe7-9116-4ad6e00a7648"
      },
      "execution_count": 4,
      "outputs": [
        {
          "output_type": "stream",
          "name": "stdout",
          "text": [
            "Updated numbers: [1, 2, 3, 4, 5, 10]\n"
          ]
        }
      ]
    },
    {
      "cell_type": "code",
      "source": [
        "animals = [\"lion\", \"tiger\", \"elephant\", \"donkey\"]\n",
        "del animals[2]\n",
        "print(\"Updated animals:\", animals)\n"
      ],
      "metadata": {
        "colab": {
          "base_uri": "https://localhost:8080/"
        },
        "id": "rg0XidR52svo",
        "outputId": "b3e0690e-6468-47de-858b-495347a0a0a7"
      },
      "execution_count": 6,
      "outputs": [
        {
          "output_type": "stream",
          "name": "stdout",
          "text": [
            "Updated animals: ['lion', 'tiger', 'donkey']\n"
          ]
        }
      ]
    },
    {
      "cell_type": "code",
      "source": [
        "cities = [\"Abbottabad\", \"Islamabad\", \"Lahore\", \"Karachi\"]\n",
        "for city in cities:\n",
        "    print(city)\n"
      ],
      "metadata": {
        "colab": {
          "base_uri": "https://localhost:8080/"
        },
        "id": "v9aW0S3D3B38",
        "outputId": "4f0ef06d-6282-476e-fc56-19769c8a9c04"
      },
      "execution_count": 8,
      "outputs": [
        {
          "output_type": "stream",
          "name": "stdout",
          "text": [
            "Abbottabad\n",
            "Islamabad\n",
            "Lahore\n",
            "Karachi\n"
          ]
        }
      ]
    },
    {
      "cell_type": "code",
      "source": [
        "original_numbers = list(range(1, 11))\n",
        "squared_numbers = [num ** 2 for num in original_numbers]\n",
        "print(\"Squared numbers:\", squared_numbers)\n"
      ],
      "metadata": {
        "colab": {
          "base_uri": "https://localhost:8080/"
        },
        "id": "PDXn_SJ63in1",
        "outputId": "3a7859af-8383-4bef-da8c-869b246c41e1"
      },
      "execution_count": 9,
      "outputs": [
        {
          "output_type": "stream",
          "name": "stdout",
          "text": [
            "Squared numbers: [1, 4, 9, 16, 25, 36, 49, 64, 81, 100]\n"
          ]
        }
      ]
    },
    {
      "cell_type": "code",
      "source": [
        "names = [\"khizzer\", \"haseeb\", \"tanveer\", \"daniyal\"]\n",
        "names.sort()\n",
        "print(\"Sorted names:\", names)\n"
      ],
      "metadata": {
        "colab": {
          "base_uri": "https://localhost:8080/"
        },
        "id": "YOcoFNw_3-PR",
        "outputId": "24d9ae74-2878-455e-acb2-6b751227825c"
      },
      "execution_count": 10,
      "outputs": [
        {
          "output_type": "stream",
          "name": "stdout",
          "text": [
            "Sorted names: ['daniyal', 'haseeb', 'khizzer', 'tanveer']\n"
          ]
        }
      ]
    },
    {
      "cell_type": "code",
      "source": [
        "original_fruits = [\"apple\", \"banana\", \"cherry\"]\n",
        "copied_fruits = original_fruits.copy()\n",
        "print(\"Copied fruits:\", copied_fruits)\n"
      ],
      "metadata": {
        "colab": {
          "base_uri": "https://localhost:8080/"
        },
        "id": "eDafSi4E4baq",
        "outputId": "07fb7aa0-8c6d-47ed-ae57-96a60a1ca84d"
      },
      "execution_count": 11,
      "outputs": [
        {
          "output_type": "stream",
          "name": "stdout",
          "text": [
            "Copied fruits: ['apple', 'banana', 'cherry']\n"
          ]
        }
      ]
    },
    {
      "cell_type": "code",
      "source": [
        "list1 = [1, 2, 3]\n",
        "list2 = [4, 5, 6]\n",
        "combined_list = list1 + list2\n",
        "print(\"Combined list:\", combined_list)\n"
      ],
      "metadata": {
        "colab": {
          "base_uri": "https://localhost:8080/"
        },
        "id": "tryBIT5I4wu2",
        "outputId": "10ea5287-31cc-4b68-96a8-3ae3c633cba0"
      },
      "execution_count": 12,
      "outputs": [
        {
          "output_type": "stream",
          "name": "stdout",
          "text": [
            "Combined list: [1, 2, 3, 4, 5, 6]\n"
          ]
        }
      ]
    },
    {
      "cell_type": "code",
      "source": [
        "fruits = [\"apple\", \"banana\", \"cherry\"]\n",
        "fruits.append(\"grape\")\n",
        "removed_fruit = fruits.pop()\n",
        "print(\"Updated fruits:\", fruits)\n",
        "print(\"Removed fruit:\", removed_fruit)\n"
      ],
      "metadata": {
        "colab": {
          "base_uri": "https://localhost:8080/"
        },
        "id": "YSoJOSUc5H7C",
        "outputId": "57dc0d9a-d066-4d51-d863-e6b4c8ea03a0"
      },
      "execution_count": 13,
      "outputs": [
        {
          "output_type": "stream",
          "name": "stdout",
          "text": [
            "Updated fruits: ['apple', 'banana', 'cherry']\n",
            "Removed fruit: grape\n"
          ]
        }
      ]
    },
    {
      "cell_type": "code",
      "source": [
        "list1 = [1, 2, 3, 4, 5]\n",
        "list2 = [6, 7, 8, 9, 10]\n",
        "combined_sum = [num1 + num2 for num1, num2 in zip(list1, list2)]\n",
        "print(\"Combined sum:\", combined_sum)\n"
      ],
      "metadata": {
        "colab": {
          "base_uri": "https://localhost:8080/"
        },
        "id": "rvUnwClf5cLT",
        "outputId": "b602ff20-1028-40d7-8aa1-b831483e202d"
      },
      "execution_count": 14,
      "outputs": [
        {
          "output_type": "stream",
          "name": "stdout",
          "text": [
            "Combined sum: [7, 9, 11, 13, 15]\n"
          ]
        }
      ]
    },
    {
      "cell_type": "code",
      "source": [
        "original_numbers = [11, 22, 33, 44, 55, 66, 77, 88, 99]\n",
        "even_numbers = [num for num in original_numbers if num % 2 == 0]\n",
        "even_numbers.sort(reverse=True)\n",
        "print(\"Even numbers (sorted in descending order):\", even_numbers)\n"
      ],
      "metadata": {
        "colab": {
          "base_uri": "https://localhost:8080/"
        },
        "id": "BbIgX5kI50WN",
        "outputId": "a9a43a1b-a425-46e2-aa7d-436a71fa882c"
      },
      "execution_count": 15,
      "outputs": [
        {
          "output_type": "stream",
          "name": "stdout",
          "text": [
            "Even numbers (sorted in descending order): [88, 66, 44, 22]\n"
          ]
        }
      ]
    },
    {
      "cell_type": "code",
      "source": [
        "original_numbers = [11, 22, 33, 44, 55, 66, 77, 88, 99]\n",
        "even_numbers = [num for num in original_numbers if num % 2 == 0]\n",
        "even_numbers.sort(reverse=True)\n",
        "print(\"Even numbers (sorted in descending order):\", even_numbers)\n"
      ],
      "metadata": {
        "colab": {
          "base_uri": "https://localhost:8080/"
        },
        "id": "RhtSsgFK6FMo",
        "outputId": "cde5e2f1-7dd9-4f9d-fe39-421da38ff76c"
      },
      "execution_count": 16,
      "outputs": [
        {
          "output_type": "stream",
          "name": "stdout",
          "text": [
            "Even numbers (sorted in descending order): [88, 66, 44, 22]\n"
          ]
        }
      ]
    },
    {
      "cell_type": "code",
      "source": [
        "# Creating a list of numbers from 1 to 10\n",
        "original_numbers = list(range(1, 11))\n",
        "\n",
        "# Using list slicing to extract even numbers in reverse order\n",
        "even_numbers_reversed = original_numbers[1::2][::-1]\n",
        "\n",
        "print(\"Original numbers:\", original_numbers)\n",
        "print(\"Even numbers (reversed):\", even_numbers_reversed)\n"
      ],
      "metadata": {
        "colab": {
          "base_uri": "https://localhost:8080/"
        },
        "id": "9mGnTEFg6axY",
        "outputId": "269d54d5-74a0-4fbc-b37f-f625d8119226"
      },
      "execution_count": 17,
      "outputs": [
        {
          "output_type": "stream",
          "name": "stdout",
          "text": [
            "Original numbers: [1, 2, 3, 4, 5, 6, 7, 8, 9, 10]\n",
            "Even numbers (reversed): [10, 8, 6, 4, 2]\n"
          ]
        }
      ]
    },
    {
      "cell_type": "code",
      "source": [
        "# Creating lists of even and odd numbers\n",
        "even_numbers = [2, 4, 6, 8, 10]\n",
        "odd_numbers = [1, 3, 5, 7, 9]\n",
        "\n",
        "# Combining lists alternately\n",
        "combined_list = []\n",
        "for even, odd in zip(even_numbers, odd_numbers):\n",
        "    combined_list.append(even)\n",
        "    combined_list.append(odd)\n",
        "\n",
        "print(\"Combined list (alternating even and odd):\", combined_list)\n"
      ],
      "metadata": {
        "colab": {
          "base_uri": "https://localhost:8080/"
        },
        "id": "xgHkqX1J6xT5",
        "outputId": "cd6e8a70-7b6f-4557-a032-a9ffa44b1e42"
      },
      "execution_count": 18,
      "outputs": [
        {
          "output_type": "stream",
          "name": "stdout",
          "text": [
            "Combined list (alternating even and odd): [2, 1, 4, 3, 6, 5, 8, 7, 10, 9]\n"
          ]
        }
      ]
    }
  ]
}