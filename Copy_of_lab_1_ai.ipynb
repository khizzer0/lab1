{
  "nbformat": 4,
  "nbformat_minor": 0,
  "metadata": {
    "colab": {
      "provenance": [],
      "authorship_tag": "ABX9TyP0nWltsuqSM7Y2xoLtiwfl",
      "include_colab_link": true
    },
    "kernelspec": {
      "name": "python3",
      "display_name": "Python 3"
    },
    "language_info": {
      "name": "python"
    }
  },
  "cells": [
    {
      "cell_type": "markdown",
      "metadata": {
        "id": "view-in-github",
        "colab_type": "text"
      },
      "source": [
        "<a href=\"https://colab.research.google.com/github/khizzer0/lab1/blob/main/Copy_of_lab_1_ai.ipynb\" target=\"_parent\"><img src=\"https://colab.research.google.com/assets/colab-badge.svg\" alt=\"Open In Colab\"/></a>"
      ]
    },
    {
      "cell_type": "markdown",
      "source": [
        "**4th semester lab 1 work**\n"
      ],
      "metadata": {
        "id": "o4OfI9Qbt8Sa"
      }
    },
    {
      "cell_type": "code",
      "execution_count": null,
      "metadata": {
        "id": "tSAV2bv-tur1"
      },
      "outputs": [],
      "source": [
        "x = 10  # Assigns the value 10 to the variable x\n"
      ]
    },
    {
      "cell_type": "code",
      "source": [
        "age = 25\n"
      ],
      "metadata": {
        "id": "F6AeTnlTuIQp"
      },
      "execution_count": null,
      "outputs": []
    },
    {
      "cell_type": "code",
      "source": [
        "a = 5\n",
        "b = 7\n",
        "result = (a == b)  # Evaluates to False\n"
      ],
      "metadata": {
        "id": "NnttyZdNvVx-"
      },
      "execution_count": null,
      "outputs": []
    },
    {
      "cell_type": "code",
      "source": [
        "temperature = 98.6\n"
      ],
      "metadata": {
        "id": "llivt__bv5qv"
      },
      "execution_count": null,
      "outputs": []
    },
    {
      "cell_type": "code",
      "source": [
        "x, y, z = 10, 20, 30\n"
      ],
      "metadata": {
        "id": "sh0zXLwww2Te"
      },
      "execution_count": null,
      "outputs": []
    },
    {
      "cell_type": "code",
      "source": [
        "a = b = c = 42\n"
      ],
      "metadata": {
        "id": "e9ZdoJi9xRA6"
      },
      "execution_count": null,
      "outputs": []
    },
    {
      "cell_type": "code",
      "source": [
        "num1 = 15\n",
        "num2 = 7\n",
        "sum_result = num1 + num2\n",
        "difference_result = num1 - num2\n",
        "product_result = num1 * num2\n",
        "quotient_result = num1 / num2\n"
      ],
      "metadata": {
        "id": "eIMahBKryELu"
      },
      "execution_count": null,
      "outputs": []
    },
    {
      "cell_type": "code",
      "source": [
        "pi = 3.14159\n",
        "radius = 5.0\n",
        "circumference = 2 * pi * radius\n"
      ],
      "metadata": {
        "id": "lP2jgKHIzDKw"
      },
      "execution_count": null,
      "outputs": []
    },
    {
      "cell_type": "code",
      "source": [
        "x = 10\n",
        "print(x)  # Output: 10\n"
      ],
      "metadata": {
        "colab": {
          "base_uri": "https://localhost:8080/"
        },
        "id": "ZJwjcL_a1hjW",
        "outputId": "d06ee127-728d-4498-d910-46a788ffd084"
      },
      "execution_count": null,
      "outputs": [
        {
          "output_type": "stream",
          "name": "stdout",
          "text": [
            "10\n"
          ]
        }
      ]
    },
    {
      "cell_type": "code",
      "source": [
        "x = 10\n",
        "y = 20\n",
        "print(x, y)  # Output: 10 20\n"
      ],
      "metadata": {
        "colab": {
          "base_uri": "https://localhost:8080/"
        },
        "id": "jwR7BZOr2AMo",
        "outputId": "26140f67-cde9-4201-aeee-85a056157e73"
      },
      "execution_count": null,
      "outputs": [
        {
          "output_type": "stream",
          "name": "stdout",
          "text": [
            "10 20\n"
          ]
        }
      ]
    },
    {
      "cell_type": "code",
      "source": [
        "name = 'khizzer'\n",
        "age = 21\n",
        "print(f\"My name is {name} and I am {age} years old.\")\n",
        "# Output: My name is khizzer and I am 21 years old.\n"
      ],
      "metadata": {
        "colab": {
          "base_uri": "https://localhost:8080/"
        },
        "id": "Lk5XAQgB2y_F",
        "outputId": "ae70ec8b-38db-46dc-811f-63e2aa8d9a60"
      },
      "execution_count": null,
      "outputs": [
        {
          "output_type": "stream",
          "name": "stdout",
          "text": [
            "My name is khizzer and I am 21 years old.\n"
          ]
        }
      ]
    },
    {
      "cell_type": "code",
      "source": [
        "x = 5\n",
        "y = 3\n",
        "print(f\"The sum of {x} and {y} is {x + y}.\")  # Output: The sum of 5 and 3 is 8.\n"
      ],
      "metadata": {
        "id": "RxUcv8MV382f",
        "outputId": "f499eecc-0774-45e1-feda-04952518532b",
        "colab": {
          "base_uri": "https://localhost:8080/"
        }
      },
      "execution_count": null,
      "outputs": [
        {
          "output_type": "stream",
          "name": "stdout",
          "text": [
            "The sum of 5 and 3 is 8.\n"
          ]
        }
      ]
    }
  ]
}